{
  "cells": [
    {
      "cell_type": "markdown",
      "metadata": {
        "id": "view-in-github",
        "colab_type": "text"
      },
      "source": [
        "<a href=\"https://colab.research.google.com/github/J52849/Interstellar-jx/blob/main/%E5%86%85%E9%83%A8%E7%94%A8%E3%80%80Youtube(HKB).ipynb\" target=\"_parent\"><img src=\"https://colab.research.google.com/assets/colab-badge.svg\" alt=\"Open In Colab\"/></a>"
      ]
    },
    {
      "cell_type": "markdown",
      "source": [
        "# **YouTube出力システム**"
      ],
      "metadata": {
        "id": "pAyqWxzUSRq7"
      }
    },
    {
      "cell_type": "markdown",
      "source": [
        "# **内部用**"
      ],
      "metadata": {
        "id": "zV63cnftShh7"
      }
    },
    {
      "cell_type": "markdown",
      "source": [
        "# 使用方法\n",
        "\n",
        "installコードを実行しプログラムをインストール\n",
        "\n",
        "次に下の実行/停止コードを実行すると使用可能なurlが生成される\n",
        "\n",
        "生成urlは実行し続けるプログラムをストップすることで使用停止にすることが可能\n",
        "\n"
      ],
      "metadata": {
        "id": "rX5Q71x7SoXl"
      }
    },
    {
      "source": [
        "#@title　install\n",
        "\n",
        "!pip install \"beautifulsoup4>=4.13.3\", \\\n",
        "\"certifi>=2025.1.31\", \\\n",
        "\"email-validator>=2.2.0\", \\\n",
        "\"flask>=3.1.0\", \\\n",
        "\"flask-sqlalchemy>=3.1.1\", \\\n",
        "\"gunicorn>=23.0.0\", \\\n",
        "\"pillow>=11.1.0\", \\\n",
        "\"psycopg2-binary>=2.9.10\", \\\n",
        "\"pyshorteners>=1.0.1\", \\\n",
        "\"pytubefix>=8.12.3\", \\\n",
        "\"pytz>=2025.1\", \\\n",
        "\"requests>=2.32.3\", \\\n",
        "\"sqlalchemy>=2.0.39\", \\\n",
        "\"youtube-transcript-api>=1.0.3\", \\\n",
        "\"yt-dlp>=2025.3.21\", \\\n",
        "\"pyngrok\" \\\n",
        "\"werkzeug\" \\\n",
        "\"py-localtunnel\" # Added commas and proper indentation to include pyngrok and werkzeug in the installation\n",
        "\n",
        "import gdown\n",
        "import zipfile\n",
        "import os\n",
        "\n",
        "# Google Driveの共有URLを入力\n",
        "drive_url = \"https://drive.google.com/file/d/1KAMQbWFurAgkOnjE-efSUY09Z1TI68vx/view?usp=sharing\"\n",
        "\n",
        "# ファイルIDを抽出してダウンロードリンクを生成\n",
        "file_id = drive_url.split(\"/\")[-2]\n",
        "download_url = f\"https://drive.google.com/uc?id={file_id}\"\n",
        "\n",
        "# ZIPファイルのダウンロード\n",
        "zip_file_name = \"downloaded_file.zip\"\n",
        "gdown.download(download_url, zip_file_name, quiet=True) # Changed 'down' to 'gdown' to call the correct function from the library\n",
        "\n",
        "# ZIPファイルの展開\n",
        "output_dir = \"./extracted_files\"\n",
        "os.makedirs(output_dir, exist_ok=True)\n",
        "\n",
        "with zipfile.ZipFile(zip_file_name, 'r') as zip_ref:\n",
        "    # Indented this line to be part of the 'with' block\n",
        "    zip_ref.extractall(output_dir)\n",
        "\n",
        "print(f\"ZIPファイルが展開されました。展開先: {output_dir}\")\n",
        "\n",
        "# 展開されたファイル一覧を表示 (出力を非表示)\n",
        "print(\"展開されたファイル:\")\n",
        "!ls ./extracted_files > /dev/null # Redirect output to /dev/null"
      ],
      "cell_type": "code",
      "metadata": {
        "cellView": "form",
        "id": "P-kIGHp1RolB"
      },
      "execution_count": null,
      "outputs": []
    },
    {
      "cell_type": "code",
      "source": [
        "#@title　実行/停止\n",
        "!python /content/extracted_files/HKBv2/main.py"
      ],
      "metadata": {
        "cellView": "form",
        "id": "ETj7I7Q9Rvg0"
      },
      "execution_count": null,
      "outputs": []
    },
    {
      "cell_type": "markdown",
      "source": [],
      "metadata": {
        "id": "aVDjZW4Ja-QV"
      }
    }
  ],
  "metadata": {
    "colab": {
      "provenance": [],
      "include_colab_link": true
    },
    "kernelspec": {
      "display_name": "Python 3",
      "name": "python3"
    },
    "language_info": {
      "name": "python"
    }
  },
  "nbformat": 4,
  "nbformat_minor": 0
}